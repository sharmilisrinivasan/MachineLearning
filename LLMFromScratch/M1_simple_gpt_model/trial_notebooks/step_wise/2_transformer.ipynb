{
 "cells": [
  {
   "cell_type": "markdown",
   "metadata": {},
   "source": [
    "## 0. Load inputs from last step"
   ]
  },
  {
   "cell_type": "code",
   "execution_count": 1,
   "metadata": {},
   "outputs": [
    {
     "name": "stderr",
     "output_type": "stream",
     "text": [
      "/Users/sharmilisrinivasan/miniconda3/envs/llm_from_scratch_py312/lib/python3.12/site-packages/torch/_subclasses/functional_tensor.py:295: UserWarning: Failed to initialize NumPy: No module named 'numpy' (Triggered internally at /Users/runner/work/pytorch/pytorch/pytorch/torch/csrc/utils/tensor_numpy.cpp:84.)\n",
      "  cpu = _conversion_method_template(device=torch.device(\"cpu\"))\n"
     ]
    }
   ],
   "source": [
    "import torch"
   ]
  },
  {
   "cell_type": "code",
   "execution_count": 2,
   "metadata": {},
   "outputs": [
    {
     "name": "stderr",
     "output_type": "stream",
     "text": [
      "/var/folders/5c/l1syhclx3zl_4b_g5t_hl9tc0000gn/T/ipykernel_43995/1900768348.py:1: FutureWarning: You are using `torch.load` with `weights_only=False` (the current default value), which uses the default pickle module implicitly. It is possible to construct malicious pickle data which will execute arbitrary code during unpickling (See https://github.com/pytorch/pytorch/blob/main/SECURITY.md#untrusted-models for more details). In a future release, the default value for `weights_only` will be flipped to `True`. This limits the functions that could be executed during unpickling. Arbitrary objects will no longer be allowed to be loaded via this mode unless they are explicitly allowlisted by the user via `torch.serialization.add_safe_globals`. We recommend you start setting `weights_only=True` for any use case where you don't have full control of the loaded file. Please open an issue on GitHub for any issues related to this experimental feature.\n",
      "  input = torch.load(\"intermediate_values/final_embedding.pt\")\n"
     ]
    }
   ],
   "source": [
    "input = torch.load(\"intermediate_values/final_embedding.pt\")"
   ]
  },
  {
   "cell_type": "code",
   "execution_count": 28,
   "metadata": {},
   "outputs": [
    {
     "name": "stdout",
     "output_type": "stream",
     "text": [
      "tensor([[ 2.3231, -0.3746,  2.6221,  2.2130, -1.3411,  0.1152, -0.6356, -1.3310,\n",
      "         -0.4394,  2.4190],\n",
      "        [ 0.5539, -5.1864, -0.5007,  1.0695, -0.8989, -1.4327, -0.4214,  1.9148,\n",
      "          1.2416,  0.7608],\n",
      "        [-2.2256, -0.2482,  0.4517, -1.5689,  0.4506, -0.1861,  1.5037, -1.0158,\n",
      "         -0.2976, -2.1102],\n",
      "        [-0.0212, -0.4272,  2.1284, -0.9909, -0.2254, -0.0528,  0.5645,  0.5093,\n",
      "          0.2662,  2.1440],\n",
      "        [ 0.3954, -0.0420, -0.1249, -2.8000,  0.8817,  2.2713,  1.8423, -0.6637,\n",
      "         -2.0547,  1.2039],\n",
      "        [-1.6732, -0.2235, -0.5283,  1.7224, -1.0452,  0.9322, -1.4510,  0.5735,\n",
      "         -0.7763,  0.3509],\n",
      "        [-0.8276,  1.5135,  0.4042,  0.4883, -2.3238, -0.6278,  1.0873,  2.3286,\n",
      "         -0.1649,  0.0505]], grad_fn=<SliceBackward0>)\n"
     ]
    },
    {
     "data": {
      "text/plain": [
       "torch.Size([3, 7, 10])"
      ]
     },
     "execution_count": 28,
     "metadata": {},
     "output_type": "execute_result"
    }
   ],
   "source": [
    "print(input[0,:,:])\n",
    "input.shape  # batch_size * in_seq_len * emd_dim"
   ]
  },
  {
   "cell_type": "markdown",
   "metadata": {},
   "source": [
    "## 1. Layer Norm 1\n",
    "- Normalise features within a layer (not across batch)\n",
    "- Mean and variance are calculated for all activations in a layer\n",
    "- These are scaled and shifted to have standard normal distribution (mean=0; variance=1)\n",
    "- Handles problems of Internal covariate shift\n",
    "\n",
    "#### Terminologies\n",
    "1. Activations = Outputs of the neurons\n",
    "2. Internal covariate shift = During training as each layer takes inputs from previuous layers and the input distribution keeps changing as each layer is learning. This leads to slow converges\n",
    "\n",
    "#### Formula\n",
    "### output = [scale * (input - mean)/ sqrt(variance + epsilon)] + shift\n",
    "* mean = mean across activations\n",
    "* variance = (Std_dev)^2 = Variance across activations\n",
    "* epsilon = small constant to avoid division by zero\n",
    "* scale, shift = learnable parameters"
   ]
  },
  {
   "cell_type": "code",
   "execution_count": 5,
   "metadata": {},
   "outputs": [],
   "source": [
    "import torch.nn as nn"
   ]
  },
  {
   "cell_type": "code",
   "execution_count": 15,
   "metadata": {},
   "outputs": [
    {
     "name": "stdout",
     "output_type": "stream",
     "text": [
      "tensor([[[ 0.5571],\n",
      "         [-0.2900],\n",
      "         [-0.5246],\n",
      "         [ 0.3895],\n",
      "         [ 0.0909],\n",
      "         [-0.2119],\n",
      "         [ 0.1928]],\n",
      "\n",
      "        [[ 0.5571],\n",
      "         [ 0.3854],\n",
      "         [-1.1656],\n",
      "         [ 0.8640],\n",
      "         [ 0.3570],\n",
      "         [ 0.6311],\n",
      "         [ 0.7219]],\n",
      "\n",
      "        [[-0.0954],\n",
      "         [ 0.3295],\n",
      "         [-0.7187],\n",
      "         [ 0.4752],\n",
      "         [ 0.3832],\n",
      "         [ 0.2767],\n",
      "         [ 0.5931]]], grad_fn=<MeanBackward1>)\n"
     ]
    },
    {
     "data": {
      "text/plain": [
       "torch.Size([3, 7, 1])"
      ]
     },
     "execution_count": 15,
     "metadata": {},
     "output_type": "execute_result"
    }
   ],
   "source": [
    "mean = input.mean(dim=-1, keepdim=True)  # Dim=-1 => Along Embedding size (which is learnt in previous layers)\n",
    "print(mean)\n",
    "mean.shape  # batch_size * in_seq_len * 1"
   ]
  },
  {
   "cell_type": "code",
   "execution_count": 16,
   "metadata": {},
   "outputs": [
    {
     "name": "stdout",
     "output_type": "stream",
     "text": [
      "tensor([[[2.4238],\n",
      "         [3.6585],\n",
      "         [1.3000],\n",
      "         [0.9477],\n",
      "         [2.3373],\n",
      "         [1.0768],\n",
      "         [1.5434]],\n",
      "\n",
      "        [[2.4238],\n",
      "         [1.7528],\n",
      "         [2.7279],\n",
      "         [1.8420],\n",
      "         [1.6635],\n",
      "         [2.9621],\n",
      "         [3.1118]],\n",
      "\n",
      "        [[2.2060],\n",
      "         [1.2612],\n",
      "         [1.4636],\n",
      "         [1.6757],\n",
      "         [0.5687],\n",
      "         [1.3383],\n",
      "         [1.9449]]], grad_fn=<VarBackward0>)\n"
     ]
    },
    {
     "data": {
      "text/plain": [
       "torch.Size([3, 7, 1])"
      ]
     },
     "execution_count": 16,
     "metadata": {},
     "output_type": "execute_result"
    }
   ],
   "source": [
    "var = input.var(dim=-1, keepdim=True, unbiased=False)  # Turning off Unbiased avoids division by zero \n",
    "print(var)\n",
    "var.shape # batch_size * in_seq_len * 1"
   ]
  },
  {
   "cell_type": "code",
   "execution_count": 26,
   "metadata": {},
   "outputs": [
    {
     "name": "stdout",
     "output_type": "stream",
     "text": [
      "tensor([[ 1.1343, -0.5984,  1.3264,  1.0636, -1.2192, -0.2838, -0.7661, -1.2127,\n",
      "         -0.6400,  1.1960],\n",
      "        [ 0.4412, -2.5600, -0.1102,  0.7108, -0.3184, -0.5975, -0.0687,  1.1527,\n",
      "          0.8007,  0.5493],\n",
      "        [-1.4918,  0.2425,  0.8563, -0.9159,  0.8554,  0.2970,  1.7789, -0.4308,\n",
      "          0.1991, -1.3906],\n",
      "        [-0.4218, -0.8389,  1.7862, -1.4180, -0.6316, -0.4544,  0.1798,  0.1230,\n",
      "         -0.1266,  1.8022],\n",
      "        [ 0.1991, -0.0869, -0.1412, -1.8910,  0.5172,  1.4262,  1.1456, -0.4936,\n",
      "         -1.4034,  0.7280],\n",
      "        [-1.4083, -0.0112, -0.3050,  1.8640, -0.8031,  1.1025, -1.1941,  0.7568,\n",
      "         -0.5440,  0.5423],\n",
      "        [-0.8214,  1.0631,  0.1701,  0.2378, -2.0257, -0.6605,  0.7200,  1.7191,\n",
      "         -0.2879, -0.1146]], grad_fn=<SliceBackward0>)\n"
     ]
    },
    {
     "data": {
      "text/plain": [
       "torch.Size([3, 7, 10])"
      ]
     },
     "execution_count": 26,
     "metadata": {},
     "output_type": "execute_result"
    }
   ],
   "source": [
    "epsilon = 1e-5\n",
    "norm_input = (input - mean)/torch.sqrt(var + epsilon)\n",
    "print(norm_input[0,:,:])\n",
    "norm_input.shape  # batch_size * in_seq_len * emd_dim"
   ]
  },
  {
   "cell_type": "code",
   "execution_count": 21,
   "metadata": {},
   "outputs": [],
   "source": [
    "emd_dim = 10"
   ]
  },
  {
   "cell_type": "code",
   "execution_count": 23,
   "metadata": {},
   "outputs": [
    {
     "name": "stdout",
     "output_type": "stream",
     "text": [
      "Parameter containing:\n",
      "tensor([1., 1., 1., 1., 1., 1., 1., 1., 1., 1.], requires_grad=True)\n"
     ]
    },
    {
     "data": {
      "text/plain": [
       "torch.Size([10])"
      ]
     },
     "execution_count": 23,
     "metadata": {},
     "output_type": "execute_result"
    }
   ],
   "source": [
    "scale = nn.Parameter(torch.ones(emd_dim))\n",
    "print(scale)\n",
    "scale.shape"
   ]
  },
  {
   "cell_type": "code",
   "execution_count": 22,
   "metadata": {},
   "outputs": [
    {
     "name": "stdout",
     "output_type": "stream",
     "text": [
      "Parameter containing:\n",
      "tensor([0., 0., 0., 0., 0., 0., 0., 0., 0., 0.], requires_grad=True)\n"
     ]
    },
    {
     "data": {
      "text/plain": [
       "torch.Size([10])"
      ]
     },
     "execution_count": 22,
     "metadata": {},
     "output_type": "execute_result"
    }
   ],
   "source": [
    "shift = nn.Parameter(torch.zeros(emd_dim))\n",
    "print(shift)\n",
    "shift.shape"
   ]
  },
  {
   "cell_type": "code",
   "execution_count": 27,
   "metadata": {},
   "outputs": [
    {
     "name": "stdout",
     "output_type": "stream",
     "text": [
      "tensor([[ 1.1343, -0.5984,  1.3264,  1.0636, -1.2192, -0.2838, -0.7661, -1.2127,\n",
      "         -0.6400,  1.1960],\n",
      "        [ 0.4412, -2.5600, -0.1102,  0.7108, -0.3184, -0.5975, -0.0687,  1.1527,\n",
      "          0.8007,  0.5493],\n",
      "        [-1.4918,  0.2425,  0.8563, -0.9159,  0.8554,  0.2970,  1.7789, -0.4308,\n",
      "          0.1991, -1.3906],\n",
      "        [-0.4218, -0.8389,  1.7862, -1.4180, -0.6316, -0.4544,  0.1798,  0.1230,\n",
      "         -0.1266,  1.8022],\n",
      "        [ 0.1991, -0.0869, -0.1412, -1.8910,  0.5172,  1.4262,  1.1456, -0.4936,\n",
      "         -1.4034,  0.7280],\n",
      "        [-1.4083, -0.0112, -0.3050,  1.8640, -0.8031,  1.1025, -1.1941,  0.7568,\n",
      "         -0.5440,  0.5423],\n",
      "        [-0.8214,  1.0631,  0.1701,  0.2378, -2.0257, -0.6605,  0.7200,  1.7191,\n",
      "         -0.2879, -0.1146]], grad_fn=<SliceBackward0>)\n"
     ]
    },
    {
     "data": {
      "text/plain": [
       "torch.Size([3, 7, 10])"
      ]
     },
     "execution_count": 27,
     "metadata": {},
     "output_type": "execute_result"
    }
   ],
   "source": [
    "final_norm_input = (scale * norm_input) + shift\n",
    "print(final_norm_input[0,:,:])\n",
    "final_norm_input.shape  # batch_size * in_seq_len * emd_dim"
   ]
  },
  {
   "cell_type": "markdown",
   "metadata": {},
   "source": [
    "## 2. Save to carry forward"
   ]
  },
  {
   "cell_type": "code",
   "execution_count": 29,
   "metadata": {},
   "outputs": [],
   "source": [
    "torch.save(final_norm_input,\"intermediate_values/layer_norm_1_output.pt\")"
   ]
  },
  {
   "cell_type": "code",
   "execution_count": null,
   "metadata": {},
   "outputs": [],
   "source": []
  }
 ],
 "metadata": {
  "kernelspec": {
   "display_name": "llm_from_scratch_py312",
   "language": "python",
   "name": "python3"
  },
  "language_info": {
   "codemirror_mode": {
    "name": "ipython",
    "version": 3
   },
   "file_extension": ".py",
   "mimetype": "text/x-python",
   "name": "python",
   "nbconvert_exporter": "python",
   "pygments_lexer": "ipython3",
   "version": "3.12.8"
  }
 },
 "nbformat": 4,
 "nbformat_minor": 2
}
