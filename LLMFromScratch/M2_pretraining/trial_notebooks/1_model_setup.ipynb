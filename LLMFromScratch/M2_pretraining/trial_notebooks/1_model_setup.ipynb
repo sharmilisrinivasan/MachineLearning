{
 "cells": [
  {
   "cell_type": "markdown",
   "metadata": {},
   "source": [
    "## 1. Initialize & Test Model"
   ]
  },
  {
   "cell_type": "markdown",
   "metadata": {},
   "source": [
    "### 1.0. Imports"
   ]
  },
  {
   "cell_type": "code",
   "execution_count": 1,
   "metadata": {},
   "outputs": [],
   "source": [
    "# Update sys path for imports to work\n",
    "import sys\n",
    "# print(f\"Before: {\"\\n\".join(sys.path)}\")  ## Optional print to check\n",
    "sys.path.append(\"../../../LLMFromScratch\")\n",
    "# print(f\"After: {\"\\n\".join(sys.path)}\")  ## Optional print to check"
   ]
  },
  {
   "cell_type": "code",
   "execution_count": 2,
   "metadata": {},
   "outputs": [],
   "source": [
    "import torch\n",
    "\n",
    "from M0_data.helpers import GPT2Tokenizer, create_data_loader\n",
    "from M1_simple_gpt_model.generate import generate_text\n",
    "from M1_simple_gpt_model.trial_gpt_model import TrialGPTModel"
   ]
  },
  {
   "cell_type": "markdown",
   "metadata": {},
   "source": [
    "### 1.1. Initialize Model"
   ]
  },
  {
   "cell_type": "code",
   "execution_count": 3,
   "metadata": {},
   "outputs": [],
   "source": [
    "GPT_CONFIG_124M = {\n",
    "    \"context_length\": 256, # Context Length supported by the model; Using reduced size to reduce compute resources; Actual value: 1024\n",
    "    \"drop_rate\" : 0.1,  # Tring with smaller prob number, Can be kept zero.\n",
    "    \"emb_dim\": 768,  # Dimension of Embedding to be created\n",
    "    \"n_heads\": 12,  # Number of heads in Multi-Head Attention\n",
    "    \"n_layers\": 12,  # Number of times Transformer block is repeated\n",
    "    \"qvbias\": False,  # Skipping bias terms to make the transformers training faster\n",
    "    \"vocab_size\": 50257,  # Size of gpt2 tokenizer used\n",
    "}"
   ]
  },
  {
   "cell_type": "code",
   "execution_count": 4,
   "metadata": {},
   "outputs": [],
   "source": [
    "torch.manual_seed(123)  # For consistent reproducibility\n",
    "model = TrialGPTModel(GPT_CONFIG_124M)"
   ]
  },
  {
   "cell_type": "code",
   "execution_count": 5,
   "metadata": {},
   "outputs": [
    {
     "data": {
      "text/plain": [
       "TrialGPTModel(\n",
       "  (tok_emb): Embedding(50257, 768)\n",
       "  (pos_emb): Embedding(256, 768)\n",
       "  (drop_emb): Dropout(p=0.1, inplace=False)\n",
       "  (transformer_blocks): Sequential(\n",
       "    (0): TransformerBlock(\n",
       "      (norm_1): LayerNorm()\n",
       "      (multi_head_attention): MultiHeadAttention(\n",
       "        (linear_query): Linear(in_features=768, out_features=768, bias=False)\n",
       "        (linear_key): Linear(in_features=768, out_features=768, bias=False)\n",
       "        (linear_value): Linear(in_features=768, out_features=768, bias=False)\n",
       "        (dropout): Dropout(p=0.1, inplace=False)\n",
       "        (out_proj_linear): Linear(in_features=768, out_features=768, bias=True)\n",
       "      )\n",
       "      (drop_out): Dropout(p=0.1, inplace=False)\n",
       "      (norm_2): LayerNorm()\n",
       "      (feed_forward): FeedForward(\n",
       "        (layers): Sequential(\n",
       "          (0): Linear(in_features=768, out_features=3072, bias=True)\n",
       "          (1): GELU()\n",
       "          (2): Linear(in_features=3072, out_features=768, bias=True)\n",
       "          (3): Dropout(p=0.1, inplace=False)\n",
       "        )\n",
       "      )\n",
       "    )\n",
       "    (1): TransformerBlock(\n",
       "      (norm_1): LayerNorm()\n",
       "      (multi_head_attention): MultiHeadAttention(\n",
       "        (linear_query): Linear(in_features=768, out_features=768, bias=False)\n",
       "        (linear_key): Linear(in_features=768, out_features=768, bias=False)\n",
       "        (linear_value): Linear(in_features=768, out_features=768, bias=False)\n",
       "        (dropout): Dropout(p=0.1, inplace=False)\n",
       "        (out_proj_linear): Linear(in_features=768, out_features=768, bias=True)\n",
       "      )\n",
       "      (drop_out): Dropout(p=0.1, inplace=False)\n",
       "      (norm_2): LayerNorm()\n",
       "      (feed_forward): FeedForward(\n",
       "        (layers): Sequential(\n",
       "          (0): Linear(in_features=768, out_features=3072, bias=True)\n",
       "          (1): GELU()\n",
       "          (2): Linear(in_features=3072, out_features=768, bias=True)\n",
       "          (3): Dropout(p=0.1, inplace=False)\n",
       "        )\n",
       "      )\n",
       "    )\n",
       "    (2): TransformerBlock(\n",
       "      (norm_1): LayerNorm()\n",
       "      (multi_head_attention): MultiHeadAttention(\n",
       "        (linear_query): Linear(in_features=768, out_features=768, bias=False)\n",
       "        (linear_key): Linear(in_features=768, out_features=768, bias=False)\n",
       "        (linear_value): Linear(in_features=768, out_features=768, bias=False)\n",
       "        (dropout): Dropout(p=0.1, inplace=False)\n",
       "        (out_proj_linear): Linear(in_features=768, out_features=768, bias=True)\n",
       "      )\n",
       "      (drop_out): Dropout(p=0.1, inplace=False)\n",
       "      (norm_2): LayerNorm()\n",
       "      (feed_forward): FeedForward(\n",
       "        (layers): Sequential(\n",
       "          (0): Linear(in_features=768, out_features=3072, bias=True)\n",
       "          (1): GELU()\n",
       "          (2): Linear(in_features=3072, out_features=768, bias=True)\n",
       "          (3): Dropout(p=0.1, inplace=False)\n",
       "        )\n",
       "      )\n",
       "    )\n",
       "    (3): TransformerBlock(\n",
       "      (norm_1): LayerNorm()\n",
       "      (multi_head_attention): MultiHeadAttention(\n",
       "        (linear_query): Linear(in_features=768, out_features=768, bias=False)\n",
       "        (linear_key): Linear(in_features=768, out_features=768, bias=False)\n",
       "        (linear_value): Linear(in_features=768, out_features=768, bias=False)\n",
       "        (dropout): Dropout(p=0.1, inplace=False)\n",
       "        (out_proj_linear): Linear(in_features=768, out_features=768, bias=True)\n",
       "      )\n",
       "      (drop_out): Dropout(p=0.1, inplace=False)\n",
       "      (norm_2): LayerNorm()\n",
       "      (feed_forward): FeedForward(\n",
       "        (layers): Sequential(\n",
       "          (0): Linear(in_features=768, out_features=3072, bias=True)\n",
       "          (1): GELU()\n",
       "          (2): Linear(in_features=3072, out_features=768, bias=True)\n",
       "          (3): Dropout(p=0.1, inplace=False)\n",
       "        )\n",
       "      )\n",
       "    )\n",
       "    (4): TransformerBlock(\n",
       "      (norm_1): LayerNorm()\n",
       "      (multi_head_attention): MultiHeadAttention(\n",
       "        (linear_query): Linear(in_features=768, out_features=768, bias=False)\n",
       "        (linear_key): Linear(in_features=768, out_features=768, bias=False)\n",
       "        (linear_value): Linear(in_features=768, out_features=768, bias=False)\n",
       "        (dropout): Dropout(p=0.1, inplace=False)\n",
       "        (out_proj_linear): Linear(in_features=768, out_features=768, bias=True)\n",
       "      )\n",
       "      (drop_out): Dropout(p=0.1, inplace=False)\n",
       "      (norm_2): LayerNorm()\n",
       "      (feed_forward): FeedForward(\n",
       "        (layers): Sequential(\n",
       "          (0): Linear(in_features=768, out_features=3072, bias=True)\n",
       "          (1): GELU()\n",
       "          (2): Linear(in_features=3072, out_features=768, bias=True)\n",
       "          (3): Dropout(p=0.1, inplace=False)\n",
       "        )\n",
       "      )\n",
       "    )\n",
       "    (5): TransformerBlock(\n",
       "      (norm_1): LayerNorm()\n",
       "      (multi_head_attention): MultiHeadAttention(\n",
       "        (linear_query): Linear(in_features=768, out_features=768, bias=False)\n",
       "        (linear_key): Linear(in_features=768, out_features=768, bias=False)\n",
       "        (linear_value): Linear(in_features=768, out_features=768, bias=False)\n",
       "        (dropout): Dropout(p=0.1, inplace=False)\n",
       "        (out_proj_linear): Linear(in_features=768, out_features=768, bias=True)\n",
       "      )\n",
       "      (drop_out): Dropout(p=0.1, inplace=False)\n",
       "      (norm_2): LayerNorm()\n",
       "      (feed_forward): FeedForward(\n",
       "        (layers): Sequential(\n",
       "          (0): Linear(in_features=768, out_features=3072, bias=True)\n",
       "          (1): GELU()\n",
       "          (2): Linear(in_features=3072, out_features=768, bias=True)\n",
       "          (3): Dropout(p=0.1, inplace=False)\n",
       "        )\n",
       "      )\n",
       "    )\n",
       "    (6): TransformerBlock(\n",
       "      (norm_1): LayerNorm()\n",
       "      (multi_head_attention): MultiHeadAttention(\n",
       "        (linear_query): Linear(in_features=768, out_features=768, bias=False)\n",
       "        (linear_key): Linear(in_features=768, out_features=768, bias=False)\n",
       "        (linear_value): Linear(in_features=768, out_features=768, bias=False)\n",
       "        (dropout): Dropout(p=0.1, inplace=False)\n",
       "        (out_proj_linear): Linear(in_features=768, out_features=768, bias=True)\n",
       "      )\n",
       "      (drop_out): Dropout(p=0.1, inplace=False)\n",
       "      (norm_2): LayerNorm()\n",
       "      (feed_forward): FeedForward(\n",
       "        (layers): Sequential(\n",
       "          (0): Linear(in_features=768, out_features=3072, bias=True)\n",
       "          (1): GELU()\n",
       "          (2): Linear(in_features=3072, out_features=768, bias=True)\n",
       "          (3): Dropout(p=0.1, inplace=False)\n",
       "        )\n",
       "      )\n",
       "    )\n",
       "    (7): TransformerBlock(\n",
       "      (norm_1): LayerNorm()\n",
       "      (multi_head_attention): MultiHeadAttention(\n",
       "        (linear_query): Linear(in_features=768, out_features=768, bias=False)\n",
       "        (linear_key): Linear(in_features=768, out_features=768, bias=False)\n",
       "        (linear_value): Linear(in_features=768, out_features=768, bias=False)\n",
       "        (dropout): Dropout(p=0.1, inplace=False)\n",
       "        (out_proj_linear): Linear(in_features=768, out_features=768, bias=True)\n",
       "      )\n",
       "      (drop_out): Dropout(p=0.1, inplace=False)\n",
       "      (norm_2): LayerNorm()\n",
       "      (feed_forward): FeedForward(\n",
       "        (layers): Sequential(\n",
       "          (0): Linear(in_features=768, out_features=3072, bias=True)\n",
       "          (1): GELU()\n",
       "          (2): Linear(in_features=3072, out_features=768, bias=True)\n",
       "          (3): Dropout(p=0.1, inplace=False)\n",
       "        )\n",
       "      )\n",
       "    )\n",
       "    (8): TransformerBlock(\n",
       "      (norm_1): LayerNorm()\n",
       "      (multi_head_attention): MultiHeadAttention(\n",
       "        (linear_query): Linear(in_features=768, out_features=768, bias=False)\n",
       "        (linear_key): Linear(in_features=768, out_features=768, bias=False)\n",
       "        (linear_value): Linear(in_features=768, out_features=768, bias=False)\n",
       "        (dropout): Dropout(p=0.1, inplace=False)\n",
       "        (out_proj_linear): Linear(in_features=768, out_features=768, bias=True)\n",
       "      )\n",
       "      (drop_out): Dropout(p=0.1, inplace=False)\n",
       "      (norm_2): LayerNorm()\n",
       "      (feed_forward): FeedForward(\n",
       "        (layers): Sequential(\n",
       "          (0): Linear(in_features=768, out_features=3072, bias=True)\n",
       "          (1): GELU()\n",
       "          (2): Linear(in_features=3072, out_features=768, bias=True)\n",
       "          (3): Dropout(p=0.1, inplace=False)\n",
       "        )\n",
       "      )\n",
       "    )\n",
       "    (9): TransformerBlock(\n",
       "      (norm_1): LayerNorm()\n",
       "      (multi_head_attention): MultiHeadAttention(\n",
       "        (linear_query): Linear(in_features=768, out_features=768, bias=False)\n",
       "        (linear_key): Linear(in_features=768, out_features=768, bias=False)\n",
       "        (linear_value): Linear(in_features=768, out_features=768, bias=False)\n",
       "        (dropout): Dropout(p=0.1, inplace=False)\n",
       "        (out_proj_linear): Linear(in_features=768, out_features=768, bias=True)\n",
       "      )\n",
       "      (drop_out): Dropout(p=0.1, inplace=False)\n",
       "      (norm_2): LayerNorm()\n",
       "      (feed_forward): FeedForward(\n",
       "        (layers): Sequential(\n",
       "          (0): Linear(in_features=768, out_features=3072, bias=True)\n",
       "          (1): GELU()\n",
       "          (2): Linear(in_features=3072, out_features=768, bias=True)\n",
       "          (3): Dropout(p=0.1, inplace=False)\n",
       "        )\n",
       "      )\n",
       "    )\n",
       "    (10): TransformerBlock(\n",
       "      (norm_1): LayerNorm()\n",
       "      (multi_head_attention): MultiHeadAttention(\n",
       "        (linear_query): Linear(in_features=768, out_features=768, bias=False)\n",
       "        (linear_key): Linear(in_features=768, out_features=768, bias=False)\n",
       "        (linear_value): Linear(in_features=768, out_features=768, bias=False)\n",
       "        (dropout): Dropout(p=0.1, inplace=False)\n",
       "        (out_proj_linear): Linear(in_features=768, out_features=768, bias=True)\n",
       "      )\n",
       "      (drop_out): Dropout(p=0.1, inplace=False)\n",
       "      (norm_2): LayerNorm()\n",
       "      (feed_forward): FeedForward(\n",
       "        (layers): Sequential(\n",
       "          (0): Linear(in_features=768, out_features=3072, bias=True)\n",
       "          (1): GELU()\n",
       "          (2): Linear(in_features=3072, out_features=768, bias=True)\n",
       "          (3): Dropout(p=0.1, inplace=False)\n",
       "        )\n",
       "      )\n",
       "    )\n",
       "    (11): TransformerBlock(\n",
       "      (norm_1): LayerNorm()\n",
       "      (multi_head_attention): MultiHeadAttention(\n",
       "        (linear_query): Linear(in_features=768, out_features=768, bias=False)\n",
       "        (linear_key): Linear(in_features=768, out_features=768, bias=False)\n",
       "        (linear_value): Linear(in_features=768, out_features=768, bias=False)\n",
       "        (dropout): Dropout(p=0.1, inplace=False)\n",
       "        (out_proj_linear): Linear(in_features=768, out_features=768, bias=True)\n",
       "      )\n",
       "      (drop_out): Dropout(p=0.1, inplace=False)\n",
       "      (norm_2): LayerNorm()\n",
       "      (feed_forward): FeedForward(\n",
       "        (layers): Sequential(\n",
       "          (0): Linear(in_features=768, out_features=3072, bias=True)\n",
       "          (1): GELU()\n",
       "          (2): Linear(in_features=3072, out_features=768, bias=True)\n",
       "          (3): Dropout(p=0.1, inplace=False)\n",
       "        )\n",
       "      )\n",
       "    )\n",
       "  )\n",
       "  (final_norm): LayerNorm()\n",
       "  (linear_out): Linear(in_features=768, out_features=50257, bias=False)\n",
       ")"
      ]
     },
     "execution_count": 5,
     "metadata": {},
     "output_type": "execute_result"
    }
   ],
   "source": [
    "model.eval() # Switch to Evaluation mode - NOT Train"
   ]
  },
  {
   "cell_type": "markdown",
   "metadata": {},
   "source": [
    "### 1.2. Sample Test Inputs"
   ]
  },
  {
   "cell_type": "code",
   "execution_count": 6,
   "metadata": {},
   "outputs": [],
   "source": [
    "# Sample Inputs - of Different lengths\n",
    "in_strings = [\"Every effort moves you towards your goal\",\n",
    "              \"Every day holds a\",\n",
    "              \"This statement is going to have longest token length \"]"
   ]
  },
  {
   "cell_type": "markdown",
   "metadata": {},
   "source": [
    "### 1.3. Tokenize"
   ]
  },
  {
   "cell_type": "code",
   "execution_count": 7,
   "metadata": {},
   "outputs": [
    {
     "data": {
      "text/plain": [
       "torch.Size([3, 10])"
      ]
     },
     "execution_count": 7,
     "metadata": {},
     "output_type": "execute_result"
    }
   ],
   "source": [
    "tokenizer = GPT2Tokenizer()\n",
    "tokenized_in_strings = tokenizer.tokenize_batch(in_strings)\n",
    "tokenized_in_strings.shape  # batch_size * in_seq_len"
   ]
  },
  {
   "cell_type": "markdown",
   "metadata": {},
   "source": [
    "### 1.4. Generate Output with model"
   ]
  },
  {
   "cell_type": "code",
   "execution_count": 8,
   "metadata": {},
   "outputs": [],
   "source": [
    "output_tokens = generate_text(model, tokenized_in_strings, 1, GPT_CONFIG_124M[\"context_length\"])"
   ]
  },
  {
   "cell_type": "code",
   "execution_count": 9,
   "metadata": {},
   "outputs": [
    {
     "data": {
      "text/plain": [
       "torch.Size([3, 11])"
      ]
     },
     "execution_count": 9,
     "metadata": {},
     "output_type": "execute_result"
    }
   ],
   "source": [
    "output_tokens.shape  # batch_size * min(in_seq_len, context_length)+1"
   ]
  },
  {
   "cell_type": "markdown",
   "metadata": {},
   "source": [
    "### 1.5. Detokenize"
   ]
  },
  {
   "cell_type": "code",
   "execution_count": 10,
   "metadata": {},
   "outputs": [
    {
     "data": {
      "text/plain": [
       "['Every effort moves you towards your goal inv',\n",
       " 'Every day holds a respec',\n",
       " 'This statement is going to have longest token length �']"
      ]
     },
     "execution_count": 10,
     "metadata": {},
     "output_type": "execute_result"
    }
   ],
   "source": [
    "output = tokenizer.detokenize_batch(output_tokens)\n",
    "output"
   ]
  },
  {
   "cell_type": "markdown",
   "metadata": {},
   "source": [
    "## 2. Load Trial data & Tokenize"
   ]
  },
  {
   "cell_type": "code",
   "execution_count": 11,
   "metadata": {},
   "outputs": [
    {
     "name": "stdout",
     "output_type": "stream",
     "text": [
      "20161\n",
      "The story revolves around Vandiyathevan, a charming, brave and courageous young man who sets out ac\n",
      "nd meet Manimegalai. Vandiyathevan goes to meet Manimegalai, who loved him, and dies in his hands.\n",
      "\n"
     ]
    }
   ],
   "source": [
    "with open(\"../../M0_data/ponniyinselvan.txt\", \"r\", encoding=\"utf-8\") as read_file:\n",
    "    raw_text = read_file.read()\n",
    "\n",
    "# Print length\n",
    "print(len(raw_text))\n",
    "\n",
    "# Print first 100 characters\n",
    "print(raw_text[:99])\n",
    "\n",
    "# Print last 100 characters\n",
    "print(raw_text[-99:])"
   ]
  },
  {
   "cell_type": "code",
   "execution_count": 12,
   "metadata": {},
   "outputs": [
    {
     "data": {
      "text/plain": [
       "torch.Size([1, 5330])"
      ]
     },
     "execution_count": 12,
     "metadata": {},
     "output_type": "execute_result"
    }
   ],
   "source": [
    "tokenized_raw_text = tokenizer.tokenize_batch(raw_text)\n",
    "tokenized_raw_text.shape"
   ]
  },
  {
   "cell_type": "markdown",
   "metadata": {},
   "source": [
    "## 3. Train and Validation Split"
   ]
  },
  {
   "cell_type": "markdown",
   "metadata": {},
   "source": [
    "### 3.1. Initialize config values"
   ]
  },
  {
   "cell_type": "code",
   "execution_count": 13,
   "metadata": {},
   "outputs": [
    {
     "data": {
      "text/plain": [
       "<torch._C.Generator at 0x10907f1d0>"
      ]
     },
     "execution_count": 13,
     "metadata": {},
     "output_type": "execute_result"
    }
   ],
   "source": [
    "batch_size = 2  # Small as short training set; Actual Size in Llama2 7B: 1024\n",
    "train_ratio = 0.90  # 90% Train set\n",
    "torch.manual_seed(123)  # For consistent reproducibility"
   ]
  },
  {
   "cell_type": "markdown",
   "metadata": {},
   "source": [
    "### 3.2 Actual Split to Train and Validation Set"
   ]
  },
  {
   "cell_type": "code",
   "execution_count": 14,
   "metadata": {},
   "outputs": [
    {
     "name": "stdout",
     "output_type": "stream",
     "text": [
      "18144\n"
     ]
    }
   ],
   "source": [
    "split_idx = int(len(raw_text) * train_ratio)\n",
    "print(split_idx)"
   ]
  },
  {
   "cell_type": "code",
   "execution_count": 15,
   "metadata": {},
   "outputs": [],
   "source": [
    "# Train Set\n",
    "train_set = raw_text[:split_idx]\n",
    "train_loader = create_data_loader(train_set,\n",
    "                                  max_length=GPT_CONFIG_124M[\"context_length\"],\n",
    "                                  stride=GPT_CONFIG_124M[\"context_length\"],\n",
    "                                  batch_size=batch_size,\n",
    "                                  shuffle=True,  # For training shuffling is ok\n",
    "                                  drop_last=True,\n",
    "                                  num_workers=0)"
   ]
  },
  {
   "cell_type": "code",
   "execution_count": 16,
   "metadata": {},
   "outputs": [],
   "source": [
    "# Validation Set\n",
    "validation_set = raw_text[split_idx:]\n",
    "validation_loader = create_data_loader(validation_set,\n",
    "                                       max_length=GPT_CONFIG_124M[\"context_length\"],\n",
    "                                       stride=GPT_CONFIG_124M[\"context_length\"],\n",
    "                                       batch_size=batch_size,\n",
    "                                       shuffle=False,  # For validation shuffling is turned off\n",
    "                                       drop_last=False,  # Need to infer on last short batch as well\n",
    "                                       num_workers=0)"
   ]
  },
  {
   "cell_type": "code",
   "execution_count": 17,
   "metadata": {},
   "outputs": [],
   "source": [
    "# Save to forward to next steps\n",
    "torch.save(train_loader, \"intermediates/train_loader.pt\")\n",
    "torch.save(validation_loader, \"intermediates/validation_loader.pt\")"
   ]
  },
  {
   "cell_type": "markdown",
   "metadata": {},
   "source": [
    "### 3.3 Test Data loaded"
   ]
  },
  {
   "cell_type": "code",
   "execution_count": 18,
   "metadata": {},
   "outputs": [
    {
     "name": "stdout",
     "output_type": "stream",
     "text": [
      "torch.Size([2, 256]) torch.Size([2, 256])\n",
      "torch.Size([2, 256]) torch.Size([2, 256])\n",
      "torch.Size([2, 256]) torch.Size([2, 256])\n",
      "torch.Size([2, 256]) torch.Size([2, 256])\n",
      "torch.Size([2, 256]) torch.Size([2, 256])\n",
      "torch.Size([2, 256]) torch.Size([2, 256])\n",
      "torch.Size([2, 256]) torch.Size([2, 256])\n",
      "torch.Size([2, 256]) torch.Size([2, 256])\n",
      "torch.Size([2, 256]) torch.Size([2, 256])\n"
     ]
    }
   ],
   "source": [
    "# Train set\n",
    "train_tokens = 0\n",
    "for in_data, out_data in train_loader:\n",
    "    print(in_data.shape, out_data.shape)\n",
    "    train_tokens += in_data.numel()"
   ]
  },
  {
   "cell_type": "code",
   "execution_count": 19,
   "metadata": {},
   "outputs": [
    {
     "name": "stdout",
     "output_type": "stream",
     "text": [
      "torch.Size([2, 256]) torch.Size([2, 256])\n"
     ]
    }
   ],
   "source": [
    "# Validation set\n",
    "validation_tokens = 0\n",
    "for in_data, out_data in validation_loader:\n",
    "    print(in_data.shape, out_data.shape)\n",
    "    validation_tokens += in_data.numel()"
   ]
  },
  {
   "cell_type": "code",
   "execution_count": 20,
   "metadata": {},
   "outputs": [
    {
     "name": "stdout",
     "output_type": "stream",
     "text": [
      "Train Tokens: 4608\n",
      "Validation Tokens: 512\n",
      "Total Tokens: 5120\n"
     ]
    }
   ],
   "source": [
    "# Token count verification\n",
    "print(f\"Train Tokens: {train_tokens}\")\n",
    "print(f\"Validation Tokens: {validation_tokens}\")\n",
    "print(f\"Total Tokens: {train_tokens + validation_tokens}\")"
   ]
  },
  {
   "cell_type": "markdown",
   "metadata": {},
   "source": [
    "## 4. Initial Loss before Training"
   ]
  },
  {
   "attachments": {
    "image.png": {
     "image/png": "[encoded data removed]"
    }
   },
   "cell_type": "markdown",
   "metadata": {},
   "source": [
    "### Cross Entropy Formula\n",
    "![image.png](attachment:image.png)\n",
    "\n",
    "Notes: \n",
    "1. The input can be logits as it is normalised by dividing by sum across classes in formula above\n",
    "2. When Batch is provided i.e. Tensor [Batch, Classes], by default output loss is mean across batch"
   ]
  },
  {
   "cell_type": "code",
   "execution_count": 21,
   "metadata": {},
   "outputs": [],
   "source": [
    "# Helper Functions\n",
    "\n",
    "def calc_loss_batch(input_batch, target_batch, device, model):\n",
    "    input_batch, target_batch = input_batch.to(device), target_batch.to(device)\n",
    "    logits = model(input_batch)\n",
    "    logits, target_batch = logits.flatten(0, 1), target_batch.flatten()  # flatten(start, end) Flattens dimensions from start to end idx specified\n",
    "    loss = torch.nn.functional.cross_entropy(logits, target_batch)\n",
    "    return loss\n",
    "\n",
    "def calc_loss_multi_batch(data_loader, device, model):\n",
    "    num_batches = len(data_loader)\n",
    "\n",
    "    if num_batches == 0:\n",
    "        return float(\"nan\")\n",
    "\n",
    "    total_loss = 0.\n",
    "    for input_batch, target_batch in data_loader:\n",
    "        total_loss += calc_loss_batch(input_batch, target_batch, device, model)\n",
    "    return total_loss / num_batches"
   ]
  },
  {
   "cell_type": "code",
   "execution_count": 22,
   "metadata": {},
   "outputs": [
    {
     "data": {
      "text/plain": [
       "TrialGPTModel(\n",
       "  (tok_emb): Embedding(50257, 768)\n",
       "  (pos_emb): Embedding(256, 768)\n",
       "  (drop_emb): Dropout(p=0.1, inplace=False)\n",
       "  (transformer_blocks): Sequential(\n",
       "    (0): TransformerBlock(\n",
       "      (norm_1): LayerNorm()\n",
       "      (multi_head_attention): MultiHeadAttention(\n",
       "        (linear_query): Linear(in_features=768, out_features=768, bias=False)\n",
       "        (linear_key): Linear(in_features=768, out_features=768, bias=False)\n",
       "        (linear_value): Linear(in_features=768, out_features=768, bias=False)\n",
       "        (dropout): Dropout(p=0.1, inplace=False)\n",
       "        (out_proj_linear): Linear(in_features=768, out_features=768, bias=True)\n",
       "      )\n",
       "      (drop_out): Dropout(p=0.1, inplace=False)\n",
       "      (norm_2): LayerNorm()\n",
       "      (feed_forward): FeedForward(\n",
       "        (layers): Sequential(\n",
       "          (0): Linear(in_features=768, out_features=3072, bias=True)\n",
       "          (1): GELU()\n",
       "          (2): Linear(in_features=3072, out_features=768, bias=True)\n",
       "          (3): Dropout(p=0.1, inplace=False)\n",
       "        )\n",
       "      )\n",
       "    )\n",
       "    (1): TransformerBlock(\n",
       "      (norm_1): LayerNorm()\n",
       "      (multi_head_attention): MultiHeadAttention(\n",
       "        (linear_query): Linear(in_features=768, out_features=768, bias=False)\n",
       "        (linear_key): Linear(in_features=768, out_features=768, bias=False)\n",
       "        (linear_value): Linear(in_features=768, out_features=768, bias=False)\n",
       "        (dropout): Dropout(p=0.1, inplace=False)\n",
       "        (out_proj_linear): Linear(in_features=768, out_features=768, bias=True)\n",
       "      )\n",
       "      (drop_out): Dropout(p=0.1, inplace=False)\n",
       "      (norm_2): LayerNorm()\n",
       "      (feed_forward): FeedForward(\n",
       "        (layers): Sequential(\n",
       "          (0): Linear(in_features=768, out_features=3072, bias=True)\n",
       "          (1): GELU()\n",
       "          (2): Linear(in_features=3072, out_features=768, bias=True)\n",
       "          (3): Dropout(p=0.1, inplace=False)\n",
       "        )\n",
       "      )\n",
       "    )\n",
       "    (2): TransformerBlock(\n",
       "      (norm_1): LayerNorm()\n",
       "      (multi_head_attention): MultiHeadAttention(\n",
       "        (linear_query): Linear(in_features=768, out_features=768, bias=False)\n",
       "        (linear_key): Linear(in_features=768, out_features=768, bias=False)\n",
       "        (linear_value): Linear(in_features=768, out_features=768, bias=False)\n",
       "        (dropout): Dropout(p=0.1, inplace=False)\n",
       "        (out_proj_linear): Linear(in_features=768, out_features=768, bias=True)\n",
       "      )\n",
       "      (drop_out): Dropout(p=0.1, inplace=False)\n",
       "      (norm_2): LayerNorm()\n",
       "      (feed_forward): FeedForward(\n",
       "        (layers): Sequential(\n",
       "          (0): Linear(in_features=768, out_features=3072, bias=True)\n",
       "          (1): GELU()\n",
       "          (2): Linear(in_features=3072, out_features=768, bias=True)\n",
       "          (3): Dropout(p=0.1, inplace=False)\n",
       "        )\n",
       "      )\n",
       "    )\n",
       "    (3): TransformerBlock(\n",
       "      (norm_1): LayerNorm()\n",
       "      (multi_head_attention): MultiHeadAttention(\n",
       "        (linear_query): Linear(in_features=768, out_features=768, bias=False)\n",
       "        (linear_key): Linear(in_features=768, out_features=768, bias=False)\n",
       "        (linear_value): Linear(in_features=768, out_features=768, bias=False)\n",
       "        (dropout): Dropout(p=0.1, inplace=False)\n",
       "        (out_proj_linear): Linear(in_features=768, out_features=768, bias=True)\n",
       "      )\n",
       "      (drop_out): Dropout(p=0.1, inplace=False)\n",
       "      (norm_2): LayerNorm()\n",
       "      (feed_forward): FeedForward(\n",
       "        (layers): Sequential(\n",
       "          (0): Linear(in_features=768, out_features=3072, bias=True)\n",
       "          (1): GELU()\n",
       "          (2): Linear(in_features=3072, out_features=768, bias=True)\n",
       "          (3): Dropout(p=0.1, inplace=False)\n",
       "        )\n",
       "      )\n",
       "    )\n",
       "    (4): TransformerBlock(\n",
       "      (norm_1): LayerNorm()\n",
       "      (multi_head_attention): MultiHeadAttention(\n",
       "        (linear_query): Linear(in_features=768, out_features=768, bias=False)\n",
       "        (linear_key): Linear(in_features=768, out_features=768, bias=False)\n",
       "        (linear_value): Linear(in_features=768, out_features=768, bias=False)\n",
       "        (dropout): Dropout(p=0.1, inplace=False)\n",
       "        (out_proj_linear): Linear(in_features=768, out_features=768, bias=True)\n",
       "      )\n",
       "      (drop_out): Dropout(p=0.1, inplace=False)\n",
       "      (norm_2): LayerNorm()\n",
       "      (feed_forward): FeedForward(\n",
       "        (layers): Sequential(\n",
       "          (0): Linear(in_features=768, out_features=3072, bias=True)\n",
       "          (1): GELU()\n",
       "          (2): Linear(in_features=3072, out_features=768, bias=True)\n",
       "          (3): Dropout(p=0.1, inplace=False)\n",
       "        )\n",
       "      )\n",
       "    )\n",
       "    (5): TransformerBlock(\n",
       "      (norm_1): LayerNorm()\n",
       "      (multi_head_attention): MultiHeadAttention(\n",
       "        (linear_query): Linear(in_features=768, out_features=768, bias=False)\n",
       "        (linear_key): Linear(in_features=768, out_features=768, bias=False)\n",
       "        (linear_value): Linear(in_features=768, out_features=768, bias=False)\n",
       "        (dropout): Dropout(p=0.1, inplace=False)\n",
       "        (out_proj_linear): Linear(in_features=768, out_features=768, bias=True)\n",
       "      )\n",
       "      (drop_out): Dropout(p=0.1, inplace=False)\n",
       "      (norm_2): LayerNorm()\n",
       "      (feed_forward): FeedForward(\n",
       "        (layers): Sequential(\n",
       "          (0): Linear(in_features=768, out_features=3072, bias=True)\n",
       "          (1): GELU()\n",
       "          (2): Linear(in_features=3072, out_features=768, bias=True)\n",
       "          (3): Dropout(p=0.1, inplace=False)\n",
       "        )\n",
       "      )\n",
       "    )\n",
       "    (6): TransformerBlock(\n",
       "      (norm_1): LayerNorm()\n",
       "      (multi_head_attention): MultiHeadAttention(\n",
       "        (linear_query): Linear(in_features=768, out_features=768, bias=False)\n",
       "        (linear_key): Linear(in_features=768, out_features=768, bias=False)\n",
       "        (linear_value): Linear(in_features=768, out_features=768, bias=False)\n",
       "        (dropout): Dropout(p=0.1, inplace=False)\n",
       "        (out_proj_linear): Linear(in_features=768, out_features=768, bias=True)\n",
       "      )\n",
       "      (drop_out): Dropout(p=0.1, inplace=False)\n",
       "      (norm_2): LayerNorm()\n",
       "      (feed_forward): FeedForward(\n",
       "        (layers): Sequential(\n",
       "          (0): Linear(in_features=768, out_features=3072, bias=True)\n",
       "          (1): GELU()\n",
       "          (2): Linear(in_features=3072, out_features=768, bias=True)\n",
       "          (3): Dropout(p=0.1, inplace=False)\n",
       "        )\n",
       "      )\n",
       "    )\n",
       "    (7): TransformerBlock(\n",
       "      (norm_1): LayerNorm()\n",
       "      (multi_head_attention): MultiHeadAttention(\n",
       "        (linear_query): Linear(in_features=768, out_features=768, bias=False)\n",
       "        (linear_key): Linear(in_features=768, out_features=768, bias=False)\n",
       "        (linear_value): Linear(in_features=768, out_features=768, bias=False)\n",
       "        (dropout): Dropout(p=0.1, inplace=False)\n",
       "        (out_proj_linear): Linear(in_features=768, out_features=768, bias=True)\n",
       "      )\n",
       "      (drop_out): Dropout(p=0.1, inplace=False)\n",
       "      (norm_2): LayerNorm()\n",
       "      (feed_forward): FeedForward(\n",
       "        (layers): Sequential(\n",
       "          (0): Linear(in_features=768, out_features=3072, bias=True)\n",
       "          (1): GELU()\n",
       "          (2): Linear(in_features=3072, out_features=768, bias=True)\n",
       "          (3): Dropout(p=0.1, inplace=False)\n",
       "        )\n",
       "      )\n",
       "    )\n",
       "    (8): TransformerBlock(\n",
       "      (norm_1): LayerNorm()\n",
       "      (multi_head_attention): MultiHeadAttention(\n",
       "        (linear_query): Linear(in_features=768, out_features=768, bias=False)\n",
       "        (linear_key): Linear(in_features=768, out_features=768, bias=False)\n",
       "        (linear_value): Linear(in_features=768, out_features=768, bias=False)\n",
       "        (dropout): Dropout(p=0.1, inplace=False)\n",
       "        (out_proj_linear): Linear(in_features=768, out_features=768, bias=True)\n",
       "      )\n",
       "      (drop_out): Dropout(p=0.1, inplace=False)\n",
       "      (norm_2): LayerNorm()\n",
       "      (feed_forward): FeedForward(\n",
       "        (layers): Sequential(\n",
       "          (0): Linear(in_features=768, out_features=3072, bias=True)\n",
       "          (1): GELU()\n",
       "          (2): Linear(in_features=3072, out_features=768, bias=True)\n",
       "          (3): Dropout(p=0.1, inplace=False)\n",
       "        )\n",
       "      )\n",
       "    )\n",
       "    (9): TransformerBlock(\n",
       "      (norm_1): LayerNorm()\n",
       "      (multi_head_attention): MultiHeadAttention(\n",
       "        (linear_query): Linear(in_features=768, out_features=768, bias=False)\n",
       "        (linear_key): Linear(in_features=768, out_features=768, bias=False)\n",
       "        (linear_value): Linear(in_features=768, out_features=768, bias=False)\n",
       "        (dropout): Dropout(p=0.1, inplace=False)\n",
       "        (out_proj_linear): Linear(in_features=768, out_features=768, bias=True)\n",
       "      )\n",
       "      (drop_out): Dropout(p=0.1, inplace=False)\n",
       "      (norm_2): LayerNorm()\n",
       "      (feed_forward): FeedForward(\n",
       "        (layers): Sequential(\n",
       "          (0): Linear(in_features=768, out_features=3072, bias=True)\n",
       "          (1): GELU()\n",
       "          (2): Linear(in_features=3072, out_features=768, bias=True)\n",
       "          (3): Dropout(p=0.1, inplace=False)\n",
       "        )\n",
       "      )\n",
       "    )\n",
       "    (10): TransformerBlock(\n",
       "      (norm_1): LayerNorm()\n",
       "      (multi_head_attention): MultiHeadAttention(\n",
       "        (linear_query): Linear(in_features=768, out_features=768, bias=False)\n",
       "        (linear_key): Linear(in_features=768, out_features=768, bias=False)\n",
       "        (linear_value): Linear(in_features=768, out_features=768, bias=False)\n",
       "        (dropout): Dropout(p=0.1, inplace=False)\n",
       "        (out_proj_linear): Linear(in_features=768, out_features=768, bias=True)\n",
       "      )\n",
       "      (drop_out): Dropout(p=0.1, inplace=False)\n",
       "      (norm_2): LayerNorm()\n",
       "      (feed_forward): FeedForward(\n",
       "        (layers): Sequential(\n",
       "          (0): Linear(in_features=768, out_features=3072, bias=True)\n",
       "          (1): GELU()\n",
       "          (2): Linear(in_features=3072, out_features=768, bias=True)\n",
       "          (3): Dropout(p=0.1, inplace=False)\n",
       "        )\n",
       "      )\n",
       "    )\n",
       "    (11): TransformerBlock(\n",
       "      (norm_1): LayerNorm()\n",
       "      (multi_head_attention): MultiHeadAttention(\n",
       "        (linear_query): Linear(in_features=768, out_features=768, bias=False)\n",
       "        (linear_key): Linear(in_features=768, out_features=768, bias=False)\n",
       "        (linear_value): Linear(in_features=768, out_features=768, bias=False)\n",
       "        (dropout): Dropout(p=0.1, inplace=False)\n",
       "        (out_proj_linear): Linear(in_features=768, out_features=768, bias=True)\n",
       "      )\n",
       "      (drop_out): Dropout(p=0.1, inplace=False)\n",
       "      (norm_2): LayerNorm()\n",
       "      (feed_forward): FeedForward(\n",
       "        (layers): Sequential(\n",
       "          (0): Linear(in_features=768, out_features=3072, bias=True)\n",
       "          (1): GELU()\n",
       "          (2): Linear(in_features=3072, out_features=768, bias=True)\n",
       "          (3): Dropout(p=0.1, inplace=False)\n",
       "        )\n",
       "      )\n",
       "    )\n",
       "  )\n",
       "  (final_norm): LayerNorm()\n",
       "  (linear_out): Linear(in_features=768, out_features=50257, bias=False)\n",
       ")"
      ]
     },
     "execution_count": 22,
     "metadata": {},
     "output_type": "execute_result"
    }
   ],
   "source": [
    "device = torch.device(\"cuda\" if torch.cuda.is_available() else \"cpu\")\n",
    "model.to(device) # no assignment model = model.to(device) necessary for nn.Module classes"
   ]
  },
  {
   "cell_type": "code",
   "execution_count": 23,
   "metadata": {},
   "outputs": [
    {
     "data": {
      "text/plain": [
       "<torch._C.Generator at 0x10907f1d0>"
      ]
     },
     "execution_count": 23,
     "metadata": {},
     "output_type": "execute_result"
    }
   ],
   "source": [
    "torch.manual_seed(123) # For reproducibility due to the shuffling in the data loader"
   ]
  },
  {
   "cell_type": "code",
   "execution_count": 24,
   "metadata": {},
   "outputs": [],
   "source": [
    "with torch.no_grad():  # Disable gradient tracking for efficiency because we are not training, yet\n",
    "    train_loss = calc_loss_multi_batch(train_loader, device, model)\n",
    "    val_loss = calc_loss_multi_batch(validation_loader, device, model)"
   ]
  },
  {
   "cell_type": "code",
   "execution_count": 25,
   "metadata": {},
   "outputs": [
    {
     "name": "stdout",
     "output_type": "stream",
     "text": [
      "Train Loss: 10.96826457977295\n",
      "Validation Loss: 10.963376998901367\n"
     ]
    }
   ],
   "source": [
    "print(f\"Train Loss: {train_loss}\")\n",
    "print(f\"Validation Loss: {val_loss}\")"
   ]
  }
 ],
 "metadata": {
  "kernelspec": {
   "display_name": "llm_from_scratch_py310",
   "language": "python",
   "name": "python3"
  },
  "language_info": {
   "codemirror_mode": {
    "name": "ipython",
    "version": 3
   },
   "file_extension": ".py",
   "mimetype": "text/x-python",
   "name": "python",
   "nbconvert_exporter": "python",
   "pygments_lexer": "ipython3",
   "version": "3.10.16"
  }
 },
 "nbformat": 4,
 "nbformat_minor": 2
}
